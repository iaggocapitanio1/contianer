{
 "cells": [
  {
   "cell_type": "code",
   "execution_count": null,
   "metadata": {},
   "outputs": [],
   "source": [
    "# TAKE THIS CODE TO GOOGLE COLAB FOR EASY INTEGRATION\n",
    "# Step 1: Install the necessary libraries (if not already available in your environment)\n",
    "# !pip install pandas pyarrow\n",
    "\n",
    "# Step 2: Import pandas\n",
    "import pandas as pd\n",
    "\n",
    "# Optional: If your Parquet file is in Google Drive, you can mount your Google Drive to access the file directly\n",
    "from google.colab import drive\n",
    "drive.mount('/content/drive')\n",
    "\n",
    "# Adjust the path below to the location of your Parquet file\n",
    "# For example, if your file is in the root of your Google Drive, the path might be '/content/drive/My Drive/myfile.parquet'\n",
    "parquet_file_path = '/content/drive/MyDrive/real_account_table.parquet'\n",
    "\n",
    "# Step 3: Read the Parquet file\n",
    "pd.read_parquet(parquet_file_path, engine=\"pyarrow\")\n",
    "\n"
   ]
  }
 ],
 "metadata": {
  "language_info": {
   "name": "python"
  }
 },
 "nbformat": 4,
 "nbformat_minor": 2
}
